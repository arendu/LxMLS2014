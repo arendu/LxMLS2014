{
 "metadata": {
  "name": ""
 },
 "nbformat": 3,
 "nbformat_minor": 0,
 "worksheets": [
  {
   "cells": [
    {
     "cell_type": "markdown",
     "metadata": {},
     "source": [
      "Model Evaluation\n",
      "==================\n",
      "\n",
      "Cross-validation\n",
      "-----------------"
     ]
    },
    {
     "cell_type": "code",
     "collapsed": false,
     "input": [
      "from sklearn.cross_validation import cross_val_score, train_test_split"
     ],
     "language": "python",
     "metadata": {},
     "outputs": [],
     "prompt_number": 8
    },
    {
     "cell_type": "code",
     "collapsed": false,
     "input": [
      "from sklearn.datasets import load_digits"
     ],
     "language": "python",
     "metadata": {},
     "outputs": [],
     "prompt_number": 9
    },
    {
     "cell_type": "code",
     "collapsed": false,
     "input": [
      "digits = load_digits()"
     ],
     "language": "python",
     "metadata": {},
     "outputs": [],
     "prompt_number": 10
    },
    {
     "cell_type": "code",
     "collapsed": false,
     "input": [
      "X_train, X_test, y_train, y_test = train_test_split(digits.data, digits.target)"
     ],
     "language": "python",
     "metadata": {},
     "outputs": [],
     "prompt_number": 11
    },
    {
     "cell_type": "code",
     "collapsed": false,
     "input": [
      "from sklearn.svm import SVC"
     ],
     "language": "python",
     "metadata": {},
     "outputs": [],
     "prompt_number": 12
    },
    {
     "cell_type": "code",
     "collapsed": false,
     "input": [
      "cross_val_score(SVC(C=1), X_train, y_train, cv=3)"
     ],
     "language": "python",
     "metadata": {},
     "outputs": [
      {
       "metadata": {},
       "output_type": "pyout",
       "prompt_number": 13,
       "text": [
        "array([ 0.45657016,  0.3986637 ,  0.49665924])"
       ]
      }
     ],
     "prompt_number": 13
    },
    {
     "cell_type": "code",
     "collapsed": false,
     "input": [
      "cross_val_score(SVC(C=10), X_train, y_train, cv=3, scoring=\"f1\")"
     ],
     "language": "python",
     "metadata": {},
     "outputs": [
      {
       "metadata": {},
       "output_type": "pyout",
       "prompt_number": 14,
       "text": [
        "array([ 0.56219689,  0.50594144,  0.58409343])"
       ]
      }
     ],
     "prompt_number": 14
    },
    {
     "cell_type": "markdown",
     "metadata": {},
     "source": [
      "Let's go to a binary task for a moment (even vs uneven)"
     ]
    },
    {
     "cell_type": "code",
     "collapsed": false,
     "input": [
      "cross_val_score(SVC(C=10), X_train, y_train % 2, cv=3)"
     ],
     "language": "python",
     "metadata": {},
     "outputs": [
      {
       "metadata": {},
       "output_type": "pyout",
       "prompt_number": 15,
       "text": [
        "array([ 0.73273942,  0.77728285,  0.69265033])"
       ]
      }
     ],
     "prompt_number": 15
    },
    {
     "cell_type": "code",
     "collapsed": false,
     "input": [
      "cross_val_score(SVC(C=10), X_train, y_train % 2, cv=3, scoring=\"average_precision\")"
     ],
     "language": "python",
     "metadata": {},
     "outputs": [
      {
       "metadata": {},
       "output_type": "pyout",
       "prompt_number": 16,
       "text": [
        "array([ 0.99987374,  0.9974108 ,  0.99968031])"
       ]
      }
     ],
     "prompt_number": 16
    },
    {
     "cell_type": "code",
     "collapsed": false,
     "input": [
      "cross_val_score(SVC(C=10), X_train, y_train % 2, cv=3, scoring=\"roc_auc\")"
     ],
     "language": "python",
     "metadata": {},
     "outputs": [
      {
       "metadata": {},
       "output_type": "pyout",
       "prompt_number": 17,
       "text": [
        "array([ 0.99988085,  0.99799436,  0.99968227])"
       ]
      }
     ],
     "prompt_number": 17
    },
    {
     "cell_type": "markdown",
     "metadata": {},
     "source": [
      "There are other ways to do cross-valiation"
     ]
    },
    {
     "cell_type": "code",
     "collapsed": false,
     "input": [
      "from sklearn.cross_validation import ShuffleSplit\n",
      "cross_val_score(SVC(C=10), X_train, y_train, cv=ShuffleSplit(len(X_train), 10, test_size=.4))"
     ],
     "language": "python",
     "metadata": {},
     "outputs": [
      {
       "metadata": {},
       "output_type": "pyout",
       "prompt_number": 18,
       "text": [
        "array([ 0.45640074,  0.36920223,  0.40630798,  0.33951763,  0.26530612,\n",
        "        0.3283859 ,  0.21335807,  0.34137291,  0.23191095,  0.33395176])"
       ]
      }
     ],
     "prompt_number": 18
    },
    {
     "cell_type": "markdown",
     "metadata": {},
     "source": [
      "Model Selection\n",
      "================="
     ]
    },
    {
     "cell_type": "markdown",
     "metadata": {},
     "source": [
      "Grid-Search with build-in cross validation"
     ]
    },
    {
     "cell_type": "code",
     "collapsed": false,
     "input": [
      "from sklearn.grid_search import GridSearchCV"
     ],
     "language": "python",
     "metadata": {},
     "outputs": [],
     "prompt_number": 19
    },
    {
     "cell_type": "markdown",
     "metadata": {},
     "source": [
      "Define parameter grid:"
     ]
    },
    {
     "cell_type": "code",
     "collapsed": false,
     "input": [
      "import numpy as np\n",
      "param_grid = {'C': 10. ** np.arange(-3, 3), 'gamma' : 10. ** np.arange(-3, 3)}\n",
      "print(param_grid)"
     ],
     "language": "python",
     "metadata": {},
     "outputs": [
      {
       "output_type": "stream",
       "stream": "stdout",
       "text": [
        "{'C': array([  1.00000000e-03,   1.00000000e-02,   1.00000000e-01,\n",
        "         1.00000000e+00,   1.00000000e+01,   1.00000000e+02]), 'gamma': array([  1.00000000e-03,   1.00000000e-02,   1.00000000e-01,\n",
        "         1.00000000e+00,   1.00000000e+01,   1.00000000e+02])}\n"
       ]
      }
     ],
     "prompt_number": 20
    },
    {
     "cell_type": "code",
     "collapsed": false,
     "input": [
      "grid_search = GridSearchCV(SVC(), param_grid, verbose=3, n_jobs=3)"
     ],
     "language": "python",
     "metadata": {},
     "outputs": [],
     "prompt_number": 21
    },
    {
     "cell_type": "markdown",
     "metadata": {},
     "source": [
      "A GridSearchCV object behaves just like a normal classifier."
     ]
    },
    {
     "cell_type": "code",
     "collapsed": false,
     "input": [
      "grid_search.fit(X_train, y_train)"
     ],
     "language": "python",
     "metadata": {},
     "outputs": [
      {
       "output_type": "stream",
       "stream": "stdout",
       "text": [
        "Fitting 3 folds for each of 36 candidates, totalling 108 fits\n"
       ]
      },
      {
       "output_type": "stream",
       "stream": "stderr",
       "text": [
        "[Parallel(n_jobs=3)]: Done   1 jobs       | elapsed:    0.2s\n",
        "[Parallel(n_jobs=3)]: Done  32 jobs       | elapsed:    2.2s\n",
        "[Parallel(n_jobs=3)]: Done 104 out of 108 | elapsed:    6.9s remaining:    0.3s\n",
        "[Parallel(n_jobs=3)]: Done 108 out of 108 | elapsed:    7.2s finished\n"
       ]
      },
      {
       "output_type": "stream",
       "stream": "stdout",
       "text": [
        "[GridSearchCV] C=0.001, gamma=0.001 ............................................\n",
        "[GridSearchCV] C=0.001, gamma=0.001 ............................................\n",
        "[GridSearchCV] C=0.001, gamma=0.001 ............................................\n",
        "[GridSearchCV] ................... C=0.001, gamma=0.001, score=0.209354 -   0.2s[GridSearchCV] ................... C=0.001, gamma=0.001, score=0.309577 -   0.2s[GridSearchCV] ................... C=0.001, gamma=0.001, score=0.209354 -   0.2s\n",
        "\n",
        "\n",
        "[GridSearchCV] C=0.001, gamma=0.01 .............................................\n",
        "[GridSearchCV] C=0.001, gamma=0.01 .............................................\n",
        "[GridSearchCV] C=0.001, gamma=0.01 .............................................\n",
        "[GridSearchCV] .................... C=0.001, gamma=0.01, score=0.153675 -   0.2s[GridSearchCV] .................... C=0.001, gamma=0.01, score=0.151448 -   0.2s[GridSearchCV] .................... C=0.001, gamma=0.01, score=0.187082 -   0.2s\n",
        "\n",
        "\n",
        "[GridSearchCV] C=0.001, gamma=0.1 ..............................................\n",
        "[GridSearchCV] C=0.001, gamma=0.1 ..............................................\n",
        "[GridSearchCV] C=0.001, gamma=0.1 ..............................................\n",
        "[GridSearchCV] ..................... C=0.001, gamma=0.1, score=0.109131 -   0.2s[GridSearchCV] ..................... C=0.001, gamma=0.1, score=0.109131 -   0.2s[GridSearchCV] ..................... C=0.001, gamma=0.1, score=0.104677 -   0.2s\n",
        "\n",
        "\n",
        "[GridSearchCV] C=0.001, gamma=1.0 ..............................................\n",
        "[GridSearchCV] C=0.001, gamma=1.0 ..............................................\n",
        "[GridSearchCV] C=0.001, gamma=1.0 ..............................................\n",
        "[GridSearchCV] ..................... C=0.001, gamma=1.0, score=0.207127 -   0.2s[GridSearchCV] ..................... C=0.001, gamma=1.0, score=0.311804 -   0.2s[GridSearchCV] ..................... C=0.001, gamma=1.0, score=0.207127 -   0.2s\n",
        "\n",
        "\n",
        "[GridSearchCV] C=0.001, gamma=10.0 .............................................\n",
        "[GridSearchCV] C=0.001, gamma=10.0 .............................................\n",
        "[GridSearchCV] C=0.001, gamma=10.0 .............................................\n",
        "[GridSearchCV] .................... C=0.001, gamma=10.0, score=0.104677 -   0.2s[GridSearchCV] .................... C=0.001, gamma=10.0, score=0.104677 -   0.2s[GridSearchCV] .................... C=0.001, gamma=10.0, score=0.106904 -   0.2s\n",
        "\n",
        "\n",
        "[GridSearchCV] C=0.001, gamma=100.0 ............................................\n",
        "[GridSearchCV] C=0.001, gamma=100.0 ............................................\n",
        "[GridSearchCV] C=0.001, gamma=100.0 ............................................\n",
        "[GridSearchCV] ................... C=0.001, gamma=100.0, score=0.104677 -   0.2s[GridSearchCV] ................... C=0.001, gamma=100.0, score=0.104677 -   0.2s[GridSearchCV] ................... C=0.001, gamma=100.0, score=0.106904 -   0.2s\n",
        "\n",
        "\n",
        "[GridSearchCV] C=0.01, gamma=0.001 .............................................\n",
        "[GridSearchCV] C=0.01, gamma=0.001 .............................................\n",
        "[GridSearchCV] C=0.01, gamma=0.001 .............................................\n",
        "[GridSearchCV] .................... C=0.01, gamma=0.001, score=0.209354 -   0.2s[GridSearchCV] .................... C=0.01, gamma=0.001, score=0.209354 -   0.2s[GridSearchCV] .................... C=0.01, gamma=0.001, score=0.309577 -   0.2s\n",
        "\n",
        "\n",
        "[GridSearchCV] C=0.01, gamma=0.01 ..............................................\n",
        "[GridSearchCV] C=0.01, gamma=0.01 ..............................................\n",
        "[GridSearchCV] C=0.01, gamma=0.01 ..............................................\n",
        "[GridSearchCV] ..................... C=0.01, gamma=0.01, score=0.153675 -   0.2s[GridSearchCV] ..................... C=0.01, gamma=0.01, score=0.187082 -   0.2s[GridSearchCV] ..................... C=0.01, gamma=0.01, score=0.151448 -   0.2s\n",
        "\n",
        "\n",
        "[GridSearchCV] C=0.01, gamma=0.1 ...............................................\n",
        "[GridSearchCV] C=0.01, gamma=0.1 ...............................................\n",
        "[GridSearchCV] C=0.01, gamma=0.1 ...............................................\n",
        "[GridSearchCV] ...................... C=0.01, gamma=0.1, score=0.109131 -   0.2s[GridSearchCV] ...................... C=0.01, gamma=0.1, score=0.104677 -   0.2s[GridSearchCV] ...................... C=0.01, gamma=0.1, score=0.109131 -   0.2s\n",
        "\n",
        "\n",
        "[GridSearchCV] C=0.01, gamma=1.0 ...............................................\n",
        "[GridSearchCV] C=0.01, gamma=1.0 ...............................................\n",
        "[GridSearchCV] C=0.01, gamma=1.0 ...............................................\n",
        "[GridSearchCV] ...................... C=0.01, gamma=1.0, score=0.207127 -   0.2s[GridSearchCV] ...................... C=0.01, gamma=1.0, score=0.207127 -   0.2s[GridSearchCV] ...................... C=0.01, gamma=1.0, score=0.311804 -   0.2s\n",
        "\n",
        "\n",
        "[GridSearchCV] C=0.01, gamma=10.0 ..............................................\n",
        "[GridSearchCV] C=0.01, gamma=10.0 ..............................................\n",
        "[GridSearchCV] C=0.01, gamma=10.0 ..............................................\n",
        "[GridSearchCV] ..................... C=0.01, gamma=10.0, score=0.104677 -   0.2s[GridSearchCV] ..................... C=0.01, gamma=10.0, score=0.104677 -   0.2s[GridSearchCV] ..................... C=0.01, gamma=10.0, score=0.106904 -   0.2s\n",
        "\n",
        "\n",
        "[GridSearchCV] C=0.01, gamma=100.0 .............................................\n",
        "[GridSearchCV] C=0.01, gamma=100.0 .............................................\n",
        "[GridSearchCV] C=0.01, gamma=100.0 .............................................\n",
        "[GridSearchCV] .................... C=0.01, gamma=100.0, score=0.104677 -   0.2s[GridSearchCV] .................... C=0.01, gamma=100.0, score=0.104677 -   0.2s[GridSearchCV] .................... C=0.01, gamma=100.0, score=0.106904 -   0.2s\n",
        "\n",
        "\n",
        "[GridSearchCV] C=0.1, gamma=0.001 ..............................................\n",
        "[GridSearchCV] C=0.1, gamma=0.001 ..............................................\n",
        "[GridSearchCV] C=0.1, gamma=0.001 ..............................................\n",
        "[GridSearchCV] ..................... C=0.1, gamma=0.001, score=0.948775 -   0.1s[GridSearchCV] ..................... C=0.1, gamma=0.001, score=0.951002 -   0.1s[GridSearchCV] ..................... C=0.1, gamma=0.001, score=0.955457 -   0.1s\n",
        "\n",
        "\n",
        "[GridSearchCV] C=0.1, gamma=0.01 ...............................................\n",
        "[GridSearchCV] C=0.1, gamma=0.01 ...............................................\n",
        "[GridSearchCV] C=0.1, gamma=0.01 ...............................................\n",
        "[GridSearchCV] ...................... C=0.1, gamma=0.01, score=0.153675 -   0.2s[GridSearchCV] ...................... C=0.1, gamma=0.01, score=0.187082 -   0.2s[GridSearchCV] ...................... C=0.1, gamma=0.01, score=0.151448 -   0.2s\n",
        "\n",
        "\n",
        "[GridSearchCV] C=0.1, gamma=0.1 ................................................\n",
        "[GridSearchCV] C=0.1, gamma=0.1 ................................................\n",
        "[GridSearchCV] C=0.1, gamma=0.1 ................................................\n",
        "[GridSearchCV] ....................... C=0.1, gamma=0.1, score=0.109131 -   0.2s[GridSearchCV] ....................... C=0.1, gamma=0.1, score=0.104677 -   0.2s[GridSearchCV] ....................... C=0.1, gamma=0.1, score=0.109131 -   0.2s\n",
        "\n",
        "\n",
        "[GridSearchCV] C=0.1, gamma=1.0 ................................................\n",
        "[GridSearchCV] C=0.1, gamma=1.0 ................................................\n",
        "[GridSearchCV] C=0.1, gamma=1.0 ................................................\n",
        "[GridSearchCV] ....................... C=0.1, gamma=1.0, score=0.207127 -   0.2s[GridSearchCV] ....................... C=0.1, gamma=1.0, score=0.207127 -   0.2s[GridSearchCV] ....................... C=0.1, gamma=1.0, score=0.311804 -   0.2s\n",
        "\n",
        "\n",
        "[GridSearchCV] C=0.1, gamma=10.0 ...............................................\n",
        "[GridSearchCV] C=0.1, gamma=10.0 ...............................................\n",
        "[GridSearchCV] C=0.1, gamma=10.0 ...............................................\n",
        "[GridSearchCV] ...................... C=0.1, gamma=10.0, score=0.104677 -   0.2s[GridSearchCV] ...................... C=0.1, gamma=10.0, score=0.104677 -   0.2s[GridSearchCV] ...................... C=0.1, gamma=10.0, score=0.106904 -   0.2s\n",
        "\n",
        "\n",
        "[GridSearchCV] C=0.1, gamma=100.0 ..............................................\n",
        "[GridSearchCV] C=0.1, gamma=100.0 ..............................................\n",
        "[GridSearchCV] C=0.1, gamma=100.0 ..............................................\n",
        "[GridSearchCV] ..................... C=0.1, gamma=100.0, score=0.104677 -   0.2s[GridSearchCV] ..................... C=0.1, gamma=100.0, score=0.106904 -   0.2s[GridSearchCV] ..................... C=0.1, gamma=100.0, score=0.104677 -   0.2s\n",
        "\n",
        "\n",
        "[GridSearchCV] C=1.0, gamma=0.001 ..............................................\n",
        "[GridSearchCV] C=1.0, gamma=0.001 ..............................................\n",
        "[GridSearchCV] C=1.0, gamma=0.001 ..............................................\n",
        "[GridSearchCV] ..................... C=1.0, gamma=0.001, score=0.997773 -   0.1s[GridSearchCV] ..................... C=1.0, gamma=0.001, score=0.991091 -   0.1s[GridSearchCV] ..................... C=1.0, gamma=0.001, score=0.986637 -   0.1s\n",
        "\n",
        "\n",
        "[GridSearchCV] C=1.0, gamma=0.01 ...............................................\n",
        "[GridSearchCV] C=1.0, gamma=0.01 ...............................................\n",
        "[GridSearchCV] C=1.0, gamma=0.01 ...............................................\n",
        "[GridSearchCV] ...................... C=1.0, gamma=0.01, score=0.706013 -   0.2s[GridSearchCV] ...................... C=1.0, gamma=0.01, score=0.728285 -   0.2s[GridSearchCV] ...................... C=1.0, gamma=0.01, score=0.681514 -   0.2s\n",
        "\n",
        "\n",
        "[GridSearchCV] C=1.0, gamma=0.1 ................................................\n",
        "[GridSearchCV] C=1.0, gamma=0.1 ................................................\n",
        "[GridSearchCV] C=1.0, gamma=0.1 ................................................\n",
        "[GridSearchCV] ....................... C=1.0, gamma=0.1, score=0.120267 -   0.2s[GridSearchCV] ....................... C=1.0, gamma=0.1, score=0.129176 -   0.2s[GridSearchCV] ....................... C=1.0, gamma=0.1, score=0.122494 -   0.2s\n",
        "\n",
        "\n",
        "[GridSearchCV] C=1.0, gamma=1.0 ................................................\n",
        "[GridSearchCV] C=1.0, gamma=1.0 ................................................\n",
        "[GridSearchCV] C=1.0, gamma=1.0 ................................................\n",
        "[GridSearchCV] ....................... C=1.0, gamma=1.0, score=0.207127 -   0.2s[GridSearchCV] ....................... C=1.0, gamma=1.0, score=0.207127 -   0.2s[GridSearchCV] ....................... C=1.0, gamma=1.0, score=0.104677 -   0.2s\n",
        "\n",
        "\n",
        "[GridSearchCV] C=1.0, gamma=10.0 ...............................................\n",
        "[GridSearchCV] C=1.0, gamma=10.0 ...............................................\n",
        "[GridSearchCV] C=1.0, gamma=10.0 ...............................................\n",
        "[GridSearchCV] ...................... C=1.0, gamma=10.0, score=0.104677 -   0.2s[GridSearchCV] ...................... C=1.0, gamma=10.0, score=0.106904 -   0.2s[GridSearchCV] ...................... C=1.0, gamma=10.0, score=0.104677 -   0.2s\n",
        "\n",
        "\n",
        "[GridSearchCV] C=1.0, gamma=100.0 ..............................................\n",
        "[GridSearchCV] C=1.0, gamma=100.0 ..............................................\n",
        "[GridSearchCV] C=1.0, gamma=100.0 ..............................................\n",
        "[GridSearchCV] ..................... C=1.0, gamma=100.0, score=0.104677 -   0.2s[GridSearchCV] ..................... C=1.0, gamma=100.0, score=0.106904 -   0.2s[GridSearchCV] ..................... C=1.0, gamma=100.0, score=0.104677 -   0.2s\n",
        "\n",
        "\n",
        "[GridSearchCV] C=10.0, gamma=0.001 .............................................\n",
        "[GridSearchCV] C=10.0, gamma=0.001 .............................................\n",
        "[GridSearchCV] C=10.0, gamma=0.001 .............................................\n",
        "[GridSearchCV] .................... C=10.0, gamma=0.001, score=0.997773 -   0.1s[GridSearchCV] .................... C=10.0, gamma=0.001, score=0.991091 -   0.1s[GridSearchCV] .................... C=10.0, gamma=0.001, score=0.988864 -   0.1s\n",
        "\n",
        "\n",
        "[GridSearchCV] C=10.0, gamma=0.01 ..............................................\n",
        "[GridSearchCV] C=10.0, gamma=0.01 ..............................................\n",
        "[GridSearchCV] C=10.0, gamma=0.01 ..............................................\n",
        "[GridSearchCV] ..................... C=10.0, gamma=0.01, score=0.734967 -   0.2s[GridSearchCV] ..................... C=10.0, gamma=0.01, score=0.752784 -   0.2s[GridSearchCV] ..................... C=10.0, gamma=0.01, score=0.710468 -   0.2s\n",
        "\n",
        "\n",
        "[GridSearchCV] C=10.0, gamma=0.1 ...............................................\n",
        "[GridSearchCV] C=10.0, gamma=0.1 ...............................................\n",
        "[GridSearchCV] C=10.0, gamma=0.1 ...............................................\n",
        "[GridSearchCV] ...................... C=10.0, gamma=0.1, score=0.126949 -   0.2s[GridSearchCV] ...................... C=10.0, gamma=0.1, score=0.120267 -   0.2s[GridSearchCV] ...................... C=10.0, gamma=0.1, score=0.129176 -   0.2s\n",
        "\n",
        "\n",
        "[GridSearchCV] C=10.0, gamma=1.0 ...............................................\n",
        "[GridSearchCV] C=10.0, gamma=1.0 ...............................................\n",
        "[GridSearchCV] C=10.0, gamma=1.0 ...............................................\n",
        "[GridSearchCV] ...................... C=10.0, gamma=1.0, score=0.207127 -   0.2s[GridSearchCV] ...................... C=10.0, gamma=1.0, score=0.207127 -   0.2s[GridSearchCV] ...................... C=10.0, gamma=1.0, score=0.104677 -   0.2s\n",
        "\n",
        "\n",
        "[GridSearchCV] C=10.0, gamma=10.0 ..............................................\n",
        "[GridSearchCV] C=10.0, gamma=10.0 ..............................................\n",
        "[GridSearchCV] C=10.0, gamma=10.0 ..............................................\n",
        "[GridSearchCV] ..................... C=10.0, gamma=10.0, score=0.104677 -   0.2s"
       ]
      },
      {
       "metadata": {},
       "output_type": "pyout",
       "prompt_number": 22,
       "text": [
        "GridSearchCV(cv=None,\n",
        "       estimator=SVC(C=1.0, cache_size=200, class_weight=None, coef0=0.0, degree=3, gamma=0.0,\n",
        "  kernel='rbf', max_iter=-1, probability=False, random_state=None,\n",
        "  shrinking=True, tol=0.001, verbose=False),\n",
        "       fit_params={}, iid=True, loss_func=None, n_jobs=3,\n",
        "       param_grid={'C': array([  1.00000e-03,   1.00000e-02,   1.00000e-01,   1.00000e+00,\n",
        "         1.00000e+01,   1.00000e+02]), 'gamma': array([  1.00000e-03,   1.00000e-02,   1.00000e-01,   1.00000e+00,\n",
        "         1.00000e+01,   1.00000e+02])},\n",
        "       pre_dispatch='2*n_jobs', refit=True, score_func=None, scoring=None,\n",
        "       verbose=3)"
       ]
      },
      {
       "output_type": "stream",
       "stream": "stdout",
       "text": [
        "[GridSearchCV] ..................... C=10.0, gamma=10.0, score=0.104677 -   0.2s[GridSearchCV] ..................... C=10.0, gamma=10.0, score=0.106904 -   0.2s\n",
        "\n",
        "\n",
        "[GridSearchCV] C=10.0, gamma=100.0 .............................................\n",
        "[GridSearchCV] C=10.0, gamma=100.0 .............................................\n",
        "[GridSearchCV] C=10.0, gamma=100.0 .............................................\n",
        "[GridSearchCV] .................... C=10.0, gamma=100.0, score=0.104677 -   0.2s[GridSearchCV] .................... C=10.0, gamma=100.0, score=0.106904 -   0.2s[GridSearchCV] .................... C=10.0, gamma=100.0, score=0.104677 -   0.2s\n",
        "\n",
        "\n",
        "[GridSearchCV] C=100.0, gamma=0.001 ............................................\n",
        "[GridSearchCV] C=100.0, gamma=0.001 ............................................\n",
        "[GridSearchCV] C=100.0, gamma=0.001 ............................................\n",
        "[GridSearchCV] ................... C=100.0, gamma=0.001, score=0.997773 -   0.1s[GridSearchCV] ................... C=100.0, gamma=0.001, score=0.988864 -   0.1s[GridSearchCV] ................... C=100.0, gamma=0.001, score=0.991091 -   0.1s\n",
        "\n",
        "\n",
        "[GridSearchCV] C=100.0, gamma=0.01 .............................................\n",
        "[GridSearchCV] C=100.0, gamma=0.01 .............................................\n",
        "[GridSearchCV] C=100.0, gamma=0.01 .............................................\n",
        "[GridSearchCV] .................... C=100.0, gamma=0.01, score=0.734967 -   0.2s[GridSearchCV] .................... C=100.0, gamma=0.01, score=0.752784 -   0.2s[GridSearchCV] .................... C=100.0, gamma=0.01, score=0.710468 -   0.2s\n",
        "\n",
        "\n",
        "[GridSearchCV] C=100.0, gamma=0.1 ..............................................\n",
        "[GridSearchCV] C=100.0, gamma=0.1 ..............................................\n",
        "[GridSearchCV] C=100.0, gamma=0.1 ..............................................\n",
        "[GridSearchCV] ..................... C=100.0, gamma=0.1, score=0.126949 -   0.2s[GridSearchCV] ..................... C=100.0, gamma=0.1, score=0.120267 -   0.2s[GridSearchCV] ..................... C=100.0, gamma=0.1, score=0.129176 -   0.2s\n",
        "\n",
        "\n",
        "[GridSearchCV] C=100.0, gamma=1.0 ..............................................\n",
        "[GridSearchCV] C=100.0, gamma=1.0 ..............................................\n",
        "[GridSearchCV] C=100.0, gamma=1.0 ..............................................\n",
        "[GridSearchCV] ..................... C=100.0, gamma=1.0, score=0.207127 -   0.2s[GridSearchCV] ..................... C=100.0, gamma=1.0, score=0.207127 -   0.2s[GridSearchCV] ..................... C=100.0, gamma=1.0, score=0.104677 -   0.2s\n",
        "\n",
        "\n",
        "[GridSearchCV] C=100.0, gamma=10.0 .............................................\n",
        "[GridSearchCV] C=100.0, gamma=10.0 .............................................\n",
        "[GridSearchCV] C=100.0, gamma=10.0 .............................................\n",
        "[GridSearchCV] .................... C=100.0, gamma=10.0, score=0.104677 -   0.2s[GridSearchCV] .................... C=100.0, gamma=10.0, score=0.104677 -   0.2s[GridSearchCV] .................... C=100.0, gamma=10.0, score=0.106904 -   0.2s\n",
        "\n",
        "\n",
        "[GridSearchCV] C=100.0, gamma=100.0 ............................................\n",
        "[GridSearchCV] C=100.0, gamma=100.0 ............................................\n",
        "[GridSearchCV] C=100.0, gamma=100.0 ............................................\n",
        "[GridSearchCV] ................... C=100.0, gamma=100.0, score=0.104677 -   0.2s[GridSearchCV] ................... C=100.0, gamma=100.0, score=0.104677 -   0.2s[GridSearchCV] ................... C=100.0, gamma=100.0, score=0.106904 -   0.2s\n",
        "\n",
        "\n"
       ]
      }
     ],
     "prompt_number": 22
    },
    {
     "cell_type": "code",
     "collapsed": false,
     "input": [
      "# We extract just the scores\n",
      "%matplotlib inline\n",
      "import matplotlib.pyplot as plt\n",
      "\n",
      "scores = [x[1] for x in grid_search.grid_scores_]\n",
      "scores = np.array(scores).reshape(6, 6)\n",
      "\n",
      "plt.matshow(scores)\n",
      "plt.xlabel('gamma')\n",
      "plt.ylabel('C')\n",
      "plt.colorbar()\n",
      "plt.xticks(np.arange(6), param_grid['gamma'])\n",
      "plt.yticks(np.arange(6), param_grid['C'])"
     ],
     "language": "python",
     "metadata": {},
     "outputs": [
      {
       "metadata": {},
       "output_type": "pyout",
       "prompt_number": 23,
       "text": [
        "([<matplotlib.axis.YTick at 0x7f3ced3ee6d0>,\n",
        "  <matplotlib.axis.YTick at 0x7f3ced3f6c90>,\n",
        "  <matplotlib.axis.YTick at 0x7f3ced2951d0>,\n",
        "  <matplotlib.axis.YTick at 0x7f3ced295710>,\n",
        "  <matplotlib.axis.YTick at 0x7f3ced295d10>,\n",
        "  <matplotlib.axis.YTick at 0x7f3ced29c490>],\n",
        " <a list of 6 Text yticklabel objects>)"
       ]
      },
      {
       "metadata": {},
       "output_type": "display_data",
       "png": "[encoded data removed]",
       "text": [
        "<matplotlib.figure.Figure at 0x7f3cf4900810>"
       ]
      }
     ],
     "prompt_number": 23
    },
    {
     "cell_type": "code",
     "collapsed": false,
     "input": [
      "grid_search.best_params_"
     ],
     "language": "python",
     "metadata": {},
     "outputs": [
      {
       "metadata": {},
       "output_type": "pyout",
       "prompt_number": 24,
       "text": [
        "{'C': 10.0, 'gamma': 0.001}"
       ]
      }
     ],
     "prompt_number": 24
    },
    {
     "cell_type": "code",
     "collapsed": false,
     "input": [
      "grid_search.predict(X_test)"
     ],
     "language": "python",
     "metadata": {},
     "outputs": [
      {
       "metadata": {},
       "output_type": "pyout",
       "prompt_number": 25,
       "text": [
        "array([6, 1, 1, 6, 5, 7, 0, 0, 5, 3, 2, 6, 9, 3, 7, 4, 9, 4, 5, 5, 7, 2, 7,\n",
        "       4, 2, 3, 0, 1, 3, 2, 3, 4, 1, 4, 0, 5, 9, 5, 2, 9, 0, 5, 2, 7, 3, 1,\n",
        "       4, 9, 2, 3, 5, 4, 6, 2, 2, 1, 8, 2, 1, 4, 3, 1, 2, 8, 8, 6, 2, 3, 5,\n",
        "       3, 9, 1, 1, 2, 2, 6, 9, 5, 9, 7, 1, 6, 8, 1, 3, 8, 8, 0, 5, 7, 1, 8,\n",
        "       1, 3, 8, 8, 5, 7, 3, 0, 7, 7, 6, 1, 4, 3, 2, 4, 3, 4, 0, 1, 8, 5, 7,\n",
        "       5, 7, 6, 2, 7, 7, 8, 9, 9, 3, 7, 1, 7, 4, 9, 0, 6, 9, 6, 1, 3, 3, 7,\n",
        "       7, 3, 9, 1, 9, 3, 5, 9, 1, 4, 9, 6, 9, 4, 2, 1, 1, 4, 2, 5, 9, 9, 1,\n",
        "       7, 2, 0, 6, 5, 1, 3, 7, 5, 3, 4, 8, 8, 8, 8, 9, 1, 0, 6, 0, 9, 5, 6,\n",
        "       4, 4, 2, 5, 1, 1, 7, 3, 1, 9, 1, 3, 1, 0, 3, 2, 5, 2, 2, 9, 8, 0, 9,\n",
        "       8, 2, 7, 2, 3, 1, 6, 8, 5, 6, 1, 5, 8, 0, 9, 8, 1, 2, 8, 4, 4, 0, 5,\n",
        "       0, 4, 7, 4, 7, 8, 2, 6, 1, 1, 2, 3, 3, 0, 7, 2, 7, 6, 4, 1, 9, 3, 7,\n",
        "       2, 6, 2, 2, 0, 0, 1, 4, 1, 4, 6, 9, 8, 5, 7, 0, 9, 3, 3, 9, 3, 0, 8,\n",
        "       9, 5, 1, 1, 5, 1, 1, 5, 0, 0, 2, 5, 4, 5, 1, 9, 2, 1, 5, 3, 0, 1, 8,\n",
        "       6, 4, 6, 1, 7, 7, 8, 8, 5, 7, 8, 9, 2, 0, 6, 9, 3, 9, 8, 6, 0, 7, 3,\n",
        "       1, 9, 2, 0, 4, 7, 9, 9, 3, 8, 7, 4, 6, 1, 5, 5, 1, 1, 1, 1, 2, 7, 5,\n",
        "       7, 4, 2, 1, 0, 9, 9, 3, 9, 8, 8, 1, 8, 3, 5, 0, 3, 6, 2, 9, 3, 9, 7,\n",
        "       3, 0, 4, 0, 9, 1, 5, 4, 6, 7, 5, 8, 6, 9, 2, 8, 5, 2, 8, 6, 6, 7, 3,\n",
        "       7, 0, 6, 6, 7, 5, 7, 4, 0, 2, 6, 7, 4, 8, 6, 5, 1, 5, 9, 2, 0, 9, 3,\n",
        "       6, 0, 3, 1, 1, 0, 4, 6, 0, 2, 0, 4, 4, 3, 8, 9, 0, 4, 1, 5, 1, 3, 0,\n",
        "       6, 5, 7, 1, 3, 1, 4, 7, 6, 7, 1, 1, 1])"
       ]
      }
     ],
     "prompt_number": 25
    },
    {
     "cell_type": "code",
     "collapsed": false,
     "input": [
      "grid_search.score(X_test, y_test)"
     ],
     "language": "python",
     "metadata": {},
     "outputs": [
      {
       "metadata": {},
       "output_type": "pyout",
       "prompt_number": 26,
       "text": [
        "0.97999999999999998"
       ]
      }
     ],
     "prompt_number": 26
    },
    {
     "cell_type": "markdown",
     "metadata": {},
     "source": [
      "Preprocessing and Pipelines\n",
      "============================="
     ]
    },
    {
     "cell_type": "code",
     "collapsed": false,
     "input": [
      "from sklearn.preprocessing import StandardScaler"
     ],
     "language": "python",
     "metadata": {},
     "outputs": []
    },
    {
     "cell_type": "markdown",
     "metadata": {},
     "source": [
      "Same interface as always."
     ]
    },
    {
     "cell_type": "code",
     "collapsed": false,
     "input": [
      "scaler = StandardScaler()"
     ],
     "language": "python",
     "metadata": {},
     "outputs": []
    },
    {
     "cell_type": "code",
     "collapsed": false,
     "input": [
      "scaler.fit(X_train)"
     ],
     "language": "python",
     "metadata": {},
     "outputs": []
    },
    {
     "cell_type": "code",
     "collapsed": false,
     "input": [
      "scaler.transform(X_train).mean(axis=0)"
     ],
     "language": "python",
     "metadata": {},
     "outputs": []
    },
    {
     "cell_type": "code",
     "collapsed": false,
     "input": [
      "scaler.transform(X_train).std(axis=0)"
     ],
     "language": "python",
     "metadata": {},
     "outputs": []
    },
    {
     "cell_type": "markdown",
     "metadata": {},
     "source": [
      "For cross-validation, we need to estimate mean and standard deviation separately for each fold.\n",
      "To do that, we build a pipeline."
     ]
    },
    {
     "cell_type": "code",
     "collapsed": false,
     "input": [
      "from sklearn.pipeline import Pipeline"
     ],
     "language": "python",
     "metadata": {},
     "outputs": []
    },
    {
     "cell_type": "code",
     "collapsed": false,
     "input": [
      "pipeline = Pipeline([(\"scaler\", scaler), (\"svm\", SVC())])"
     ],
     "language": "python",
     "metadata": {},
     "outputs": []
    },
    {
     "cell_type": "code",
     "collapsed": false,
     "input": [
      "pipeline.fit(X_train, y_train)"
     ],
     "language": "python",
     "metadata": {},
     "outputs": []
    },
    {
     "cell_type": "code",
     "collapsed": false,
     "input": [
      "pipeline.predict(X_train)"
     ],
     "language": "python",
     "metadata": {},
     "outputs": []
    },
    {
     "cell_type": "markdown",
     "metadata": {},
     "source": [
      "Cross-validation with a pipeline\n",
      "---------------------------------"
     ]
    },
    {
     "cell_type": "code",
     "collapsed": false,
     "input": [
      "cross_val_score(pipeline, X_train, y_train)"
     ],
     "language": "python",
     "metadata": {},
     "outputs": [
      {
       "ename": "NameError",
       "evalue": "name 'cross_val_score' is not defined",
       "output_type": "pyerr",
       "traceback": [
        "\u001b[0;31m---------------------------------------------------------------------------\u001b[0m\n\u001b[0;31mNameError\u001b[0m                                 Traceback (most recent call last)",
        "\u001b[0;32m<ipython-input-1-979414c199dd>\u001b[0m in \u001b[0;36m<module>\u001b[0;34m()\u001b[0m\n\u001b[0;32m----> 1\u001b[0;31m \u001b[0mcross_val_score\u001b[0m\u001b[0;34m(\u001b[0m\u001b[0mpipeline\u001b[0m\u001b[0;34m,\u001b[0m \u001b[0mX_train\u001b[0m\u001b[0;34m,\u001b[0m \u001b[0my_train\u001b[0m\u001b[0;34m)\u001b[0m\u001b[0;34m\u001b[0m\u001b[0m\n\u001b[0m",
        "\u001b[0;31mNameError\u001b[0m: name 'cross_val_score' is not defined"
       ]
      }
     ],
     "prompt_number": 1
    },
    {
     "cell_type": "markdown",
     "metadata": {},
     "source": [
      "So, yeah, don't forget the preprocessing."
     ]
    },
    {
     "cell_type": "code",
     "collapsed": false,
     "input": [
      "param_grid_pipeline = {'svm__C': 10. ** np.arange(-3, 3), 'svm__gamma' : 10. ** np.arange(-3, 3)}\n",
      "\n",
      "grid_pipeline = GridSearchCV(pipeline, param_grid=param_grid_pipeline, verbose=3)"
     ],
     "language": "python",
     "metadata": {},
     "outputs": []
    },
    {
     "cell_type": "code",
     "collapsed": false,
     "input": [
      "grid_pipeline.fit(X_train, y_train)"
     ],
     "language": "python",
     "metadata": {},
     "outputs": []
    },
    {
     "cell_type": "code",
     "collapsed": false,
     "input": [
      "# We extract just the scores\n",
      "scores = [x[1] for x in grid_pipeline.grid_scores_]\n",
      "scores = np.array(scores).reshape(6, 6)\n",
      "\n",
      "plt.matshow(scores)\n",
      "plt.xlabel('gamma')\n",
      "plt.ylabel('C')\n",
      "plt.colorbar()\n",
      "plt.xticks(np.arange(6), param_grid['gamma'])\n",
      "plt.yticks(np.arange(6), param_grid['C'])"
     ],
     "language": "python",
     "metadata": {},
     "outputs": []
    },
    {
     "cell_type": "code",
     "collapsed": false,
     "input": [
      "grid_pipeline.score(X_test, y_test)"
     ],
     "language": "python",
     "metadata": {},
     "outputs": []
    },
    {
     "cell_type": "markdown",
     "metadata": {},
     "source": [
      "Randomized Searching\n",
      "======================"
     ]
    },
    {
     "cell_type": "code",
     "collapsed": false,
     "input": [
      "from sklearn.grid_search import RandomizedSearchCV"
     ],
     "language": "python",
     "metadata": {},
     "outputs": [],
     "prompt_number": 4
    },
    {
     "cell_type": "code",
     "collapsed": false,
     "input": [
      "from scipy.stats import expon"
     ],
     "language": "python",
     "metadata": {},
     "outputs": [],
     "prompt_number": 5
    },
    {
     "cell_type": "code",
     "collapsed": false,
     "input": [
      "plt.hist([expon.rvs() for x in xrange(1000)])"
     ],
     "language": "python",
     "metadata": {},
     "outputs": [
      {
       "ename": "NameError",
       "evalue": "name 'plt' is not defined",
       "output_type": "pyerr",
       "traceback": [
        "\u001b[0;31m---------------------------------------------------------------------------\u001b[0m\n\u001b[0;31mNameError\u001b[0m                                 Traceback (most recent call last)",
        "\u001b[0;32m<ipython-input-6-815248b3b260>\u001b[0m in \u001b[0;36m<module>\u001b[0;34m()\u001b[0m\n\u001b[0;32m----> 1\u001b[0;31m \u001b[0mplt\u001b[0m\u001b[0;34m.\u001b[0m\u001b[0mhist\u001b[0m\u001b[0;34m(\u001b[0m\u001b[0;34m[\u001b[0m\u001b[0mexpon\u001b[0m\u001b[0;34m.\u001b[0m\u001b[0mrvs\u001b[0m\u001b[0;34m(\u001b[0m\u001b[0;34m)\u001b[0m \u001b[0;32mfor\u001b[0m \u001b[0mx\u001b[0m \u001b[0;32min\u001b[0m \u001b[0mxrange\u001b[0m\u001b[0;34m(\u001b[0m\u001b[0;36m1000\u001b[0m\u001b[0;34m)\u001b[0m\u001b[0;34m]\u001b[0m\u001b[0;34m)\u001b[0m\u001b[0;34m\u001b[0m\u001b[0m\n\u001b[0m",
        "\u001b[0;31mNameError\u001b[0m: name 'plt' is not defined"
       ]
      }
     ],
     "prompt_number": 6
    },
    {
     "cell_type": "code",
     "collapsed": false,
     "input": [
      "params = {'svm__C': expon(), 'svm__gamma': expon()}\n",
      "rs = RandomizedSearchCV(pipeline, param_distributions=params, n_iter=50, verbose=3)"
     ],
     "language": "python",
     "metadata": {},
     "outputs": [
      {
       "ename": "NameError",
       "evalue": "name 'pipeline' is not defined",
       "output_type": "pyerr",
       "traceback": [
        "\u001b[0;31m---------------------------------------------------------------------------\u001b[0m\n\u001b[0;31mNameError\u001b[0m                                 Traceback (most recent call last)",
        "\u001b[0;32m<ipython-input-7-ebe95c36833b>\u001b[0m in \u001b[0;36m<module>\u001b[0;34m()\u001b[0m\n\u001b[1;32m      1\u001b[0m \u001b[0mparams\u001b[0m \u001b[0;34m=\u001b[0m \u001b[0;34m{\u001b[0m\u001b[0;34m'svm__C'\u001b[0m\u001b[0;34m:\u001b[0m \u001b[0mexpon\u001b[0m\u001b[0;34m(\u001b[0m\u001b[0;34m)\u001b[0m\u001b[0;34m,\u001b[0m \u001b[0;34m'svm__gamma'\u001b[0m\u001b[0;34m:\u001b[0m \u001b[0mexpon\u001b[0m\u001b[0;34m(\u001b[0m\u001b[0;34m)\u001b[0m\u001b[0;34m}\u001b[0m\u001b[0;34m\u001b[0m\u001b[0m\n\u001b[0;32m----> 2\u001b[0;31m \u001b[0mrs\u001b[0m \u001b[0;34m=\u001b[0m \u001b[0mRandomizedSearchCV\u001b[0m\u001b[0;34m(\u001b[0m\u001b[0mpipeline\u001b[0m\u001b[0;34m,\u001b[0m \u001b[0mparam_distributions\u001b[0m\u001b[0;34m=\u001b[0m\u001b[0mparams\u001b[0m\u001b[0;34m,\u001b[0m \u001b[0mn_iter\u001b[0m\u001b[0;34m=\u001b[0m\u001b[0;36m50\u001b[0m\u001b[0;34m,\u001b[0m \u001b[0mverbose\u001b[0m\u001b[0;34m=\u001b[0m\u001b[0;36m3\u001b[0m\u001b[0;34m)\u001b[0m\u001b[0;34m\u001b[0m\u001b[0m\n\u001b[0m",
        "\u001b[0;31mNameError\u001b[0m: name 'pipeline' is not defined"
       ]
      }
     ],
     "prompt_number": 7
    },
    {
     "cell_type": "code",
     "collapsed": false,
     "input": [
      "rs.fit(X_train, y_train)"
     ],
     "language": "python",
     "metadata": {},
     "outputs": []
    },
    {
     "cell_type": "code",
     "collapsed": false,
     "input": [
      "rs.best_params_"
     ],
     "language": "python",
     "metadata": {},
     "outputs": []
    },
    {
     "cell_type": "code",
     "collapsed": false,
     "input": [
      "rs.best_score_"
     ],
     "language": "python",
     "metadata": {},
     "outputs": []
    },
    {
     "cell_type": "code",
     "collapsed": false,
     "input": [
      "scores, Cs, gammas = zip(*[(score.mean_validation_score, score.parameters['svm__C'], score.parameters['svm__gamma']) for score in rs.grid_scores_])"
     ],
     "language": "python",
     "metadata": {},
     "outputs": []
    },
    {
     "cell_type": "code",
     "collapsed": false,
     "input": [
      "plt.scatter(Cs, gammas, s=40, c=scores)\n",
      "plt.xlabel(\"C\")\n",
      "plt.ylabel(\"gamma\")"
     ],
     "language": "python",
     "metadata": {},
     "outputs": []
    },
    {
     "cell_type": "code",
     "collapsed": false,
     "input": [],
     "language": "python",
     "metadata": {},
     "outputs": []
    },
    {
     "cell_type": "code",
     "collapsed": false,
     "input": [
      "X = np.random.normal(size=(50, 40))"
     ],
     "language": "python",
     "metadata": {},
     "outputs": []
    },
    {
     "cell_type": "code",
     "collapsed": false,
     "input": [
      "y = np.random.randint(2, size=50)"
     ],
     "language": "python",
     "metadata": {},
     "outputs": []
    },
    {
     "cell_type": "code",
     "collapsed": false,
     "input": [
      "X"
     ],
     "language": "python",
     "metadata": {},
     "outputs": []
    },
    {
     "cell_type": "code",
     "collapsed": false,
     "input": [
      "y"
     ],
     "language": "python",
     "metadata": {},
     "outputs": []
    },
    {
     "cell_type": "code",
     "collapsed": false,
     "input": [
      "from sklearn.feature_selection import SelectKBest"
     ],
     "language": "python",
     "metadata": {},
     "outputs": []
    },
    {
     "cell_type": "code",
     "collapsed": false,
     "input": [
      "f_selection = SelectKBest(k=3).fit(X, y)"
     ],
     "language": "python",
     "metadata": {},
     "outputs": []
    },
    {
     "cell_type": "code",
     "collapsed": false,
     "input": [
      "X_good = f_selection.transform(X)"
     ],
     "language": "python",
     "metadata": {},
     "outputs": []
    },
    {
     "cell_type": "code",
     "collapsed": false,
     "input": [
      "from sklearn.svm import LinearSVC"
     ],
     "language": "python",
     "metadata": {},
     "outputs": []
    },
    {
     "cell_type": "code",
     "collapsed": false,
     "input": [
      "grid = GridSearchCV(LinearSVC(), param_grid={'C': 10. ** np.arange(-3 ,3)})"
     ],
     "language": "python",
     "metadata": {},
     "outputs": []
    },
    {
     "cell_type": "code",
     "collapsed": false,
     "input": [
      "grid.fit(X_good, y)"
     ],
     "language": "python",
     "metadata": {},
     "outputs": []
    },
    {
     "cell_type": "code",
     "collapsed": false,
     "input": [
      "grid.best_params_"
     ],
     "language": "python",
     "metadata": {},
     "outputs": []
    },
    {
     "cell_type": "code",
     "collapsed": false,
     "input": [
      "grid.best_score_"
     ],
     "language": "python",
     "metadata": {},
     "outputs": []
    },
    {
     "cell_type": "code",
     "collapsed": false,
     "input": [],
     "language": "python",
     "metadata": {},
     "outputs": []
    }
   ],
   "metadata": {}
  }
 ]
}